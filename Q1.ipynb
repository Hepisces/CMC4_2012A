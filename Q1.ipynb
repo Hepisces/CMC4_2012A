{
 "cells": [
  {
   "cell_type": "markdown",
   "metadata": {},
   "source": [
    "# 问题：分析附件1中两组评酒员的评价结果有无显著性差异，哪一组结果更可信？"
   ]
  },
  {
   "cell_type": "code",
   "execution_count": 16,
   "metadata": {},
   "outputs": [
    {
     "name": "stdout",
     "output_type": "stream",
     "text": [
      "The autoreload extension is already loaded. To reload it, use:\n",
      "  %reload_ext autoreload\n"
     ]
    }
   ],
   "source": [
    "%load_ext autoreload\n",
    "%autoreload 2\n",
    "from data_load4ap1 import appendix1\n",
    "a1=appendix1()"
   ]
  },
  {
   "cell_type": "markdown",
   "metadata": {},
   "source": [
    "数据集太复杂了，我只能手搓了"
   ]
  },
  {
   "cell_type": "code",
   "execution_count": 17,
   "metadata": {},
   "outputs": [],
   "source": [
    "df_r_1,df_w_1,df_r_2,df_w_2=a1.sum_group()\n",
    "r_1_p=df_r_1.T.copy()\n",
    "r_2_p=df_r_2.T.copy()\n",
    "w_1_p=df_w_1.T.copy()\n",
    "w_2_p=df_w_2.T.copy()"
   ]
  },
  {
   "cell_type": "code",
   "execution_count": 73,
   "metadata": {},
   "outputs": [
    {
     "name": "stdout",
     "output_type": "stream",
     "text": [
      "组间变异量：341.721811\n",
      "组内变异量：96.309117\n",
      "自由度k:9\n",
      "自由度n:17\n",
      "F值:6.702\n",
      "f: 0.9995881041023327\n",
      "p值:0.000823791795334649634696688736\n"
     ]
    }
   ],
   "source": [
    "#tmp=a1.standardization(w_2_p.T)\n",
    "a1.anova(r_1_p)"
   ]
  },
  {
   "cell_type": "code",
   "execution_count": 64,
   "metadata": {},
   "outputs": [
    {
     "data": {
      "text/html": [
       "<div>\n",
       "<style scoped>\n",
       "    .dataframe tbody tr th:only-of-type {\n",
       "        vertical-align: middle;\n",
       "    }\n",
       "\n",
       "    .dataframe tbody tr th {\n",
       "        vertical-align: top;\n",
       "    }\n",
       "\n",
       "    .dataframe thead th {\n",
       "        text-align: right;\n",
       "    }\n",
       "</style>\n",
       "<table border=\"1\" class=\"dataframe\">\n",
       "  <thead>\n",
       "    <tr style=\"text-align: right;\">\n",
       "      <th></th>\n",
       "      <th>p1</th>\n",
       "      <th>p2</th>\n",
       "      <th>p3</th>\n",
       "      <th>p4</th>\n",
       "      <th>p5</th>\n",
       "      <th>p6</th>\n",
       "      <th>p7</th>\n",
       "      <th>p8</th>\n",
       "      <th>p9</th>\n",
       "      <th>p10</th>\n",
       "    </tr>\n",
       "  </thead>\n",
       "  <tbody>\n",
       "    <tr>\n",
       "      <th>w_2_1</th>\n",
       "      <td>84</td>\n",
       "      <td>78</td>\n",
       "      <td>82</td>\n",
       "      <td>75</td>\n",
       "      <td>79</td>\n",
       "      <td>84</td>\n",
       "      <td>81</td>\n",
       "      <td>69</td>\n",
       "      <td>75</td>\n",
       "      <td>72</td>\n",
       "    </tr>\n",
       "    <tr>\n",
       "      <th>w_2_2</th>\n",
       "      <td>79</td>\n",
       "      <td>76</td>\n",
       "      <td>77</td>\n",
       "      <td>85</td>\n",
       "      <td>77</td>\n",
       "      <td>79</td>\n",
       "      <td>80</td>\n",
       "      <td>59</td>\n",
       "      <td>76</td>\n",
       "      <td>70</td>\n",
       "    </tr>\n",
       "    <tr>\n",
       "      <th>w_2_3</th>\n",
       "      <td>85</td>\n",
       "      <td>74</td>\n",
       "      <td>71</td>\n",
       "      <td>87</td>\n",
       "      <td>79</td>\n",
       "      <td>79</td>\n",
       "      <td>80</td>\n",
       "      <td>45</td>\n",
       "      <td>83</td>\n",
       "      <td>73</td>\n",
       "    </tr>\n",
       "    <tr>\n",
       "      <th>w_2_4</th>\n",
       "      <td>84</td>\n",
       "      <td>78</td>\n",
       "      <td>74</td>\n",
       "      <td>83</td>\n",
       "      <td>69</td>\n",
       "      <td>82</td>\n",
       "      <td>84</td>\n",
       "      <td>66</td>\n",
       "      <td>77</td>\n",
       "      <td>72</td>\n",
       "    </tr>\n",
       "    <tr>\n",
       "      <th>w_2_5</th>\n",
       "      <td>83</td>\n",
       "      <td>79</td>\n",
       "      <td>79</td>\n",
       "      <td>80</td>\n",
       "      <td>77</td>\n",
       "      <td>87</td>\n",
       "      <td>82</td>\n",
       "      <td>73</td>\n",
       "      <td>84</td>\n",
       "      <td>91</td>\n",
       "    </tr>\n",
       "  </tbody>\n",
       "</table>\n",
       "</div>"
      ],
      "text/plain": [
       "       p1  p2  p3  p4  p5  p6  p7  p8  p9  p10\n",
       "w_2_1  84  78  82  75  79  84  81  69  75   72\n",
       "w_2_2  79  76  77  85  77  79  80  59  76   70\n",
       "w_2_3  85  74  71  87  79  79  80  45  83   73\n",
       "w_2_4  84  78  74  83  69  82  84  66  77   72\n",
       "w_2_5  83  79  79  80  77  87  82  73  84   91"
      ]
     },
     "execution_count": 64,
     "metadata": {},
     "output_type": "execute_result"
    }
   ],
   "source": [
    "w_2_p.head()"
   ]
  },
  {
   "cell_type": "code",
   "execution_count": null,
   "metadata": {},
   "outputs": [],
   "source": []
  }
 ],
 "metadata": {
  "kernelspec": {
   "display_name": "pytorch",
   "language": "python",
   "name": "python3"
  },
  "language_info": {
   "codemirror_mode": {
    "name": "ipython",
    "version": 3
   },
   "file_extension": ".py",
   "mimetype": "text/x-python",
   "name": "python",
   "nbconvert_exporter": "python",
   "pygments_lexer": "ipython3",
   "version": "3.12.4"
  }
 },
 "nbformat": 4,
 "nbformat_minor": 2
}
