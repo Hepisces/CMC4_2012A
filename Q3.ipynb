{
 "cells": [
  {
   "cell_type": "code",
   "execution_count": 3,
   "metadata": {},
   "outputs": [
    {
     "name": "stdout",
     "output_type": "stream",
     "text": [
      "The autoreload extension is already loaded. To reload it, use:\n",
      "  %reload_ext autoreload\n"
     ]
    }
   ],
   "source": [
    "%load_ext autoreload\n",
    "%autoreload 2\n",
    "from dataload4ap2 import part4q3\n",
    "a3=part4q3()"
   ]
  },
  {
   "cell_type": "code",
   "execution_count": 13,
   "metadata": {},
   "outputs": [],
   "source": [
    "df,g,w=a3.read_all_r()"
   ]
  },
  {
   "cell_type": "code",
   "execution_count": 14,
   "metadata": {},
   "outputs": [],
   "source": [
    "pearson=a3.pearson_cal(df,g,w)"
   ]
  },
  {
   "cell_type": "code",
   "execution_count": 24,
   "metadata": {},
   "outputs": [
    {
     "name": "stderr",
     "output_type": "stream",
     "text": [
      "Fitting Models: 100%|██████████| 9/9 [00:00<00:00, 49.75it/s]\n"
     ]
    },
    {
     "name": "stdout",
     "output_type": "stream",
     "text": [
      "Done\n"
     ]
    }
   ],
   "source": [
    "summeries=a3.sbs_ols(df,w,pearson)"
   ]
  },
  {
   "cell_type": "code",
   "execution_count": 28,
   "metadata": {},
   "outputs": [
    {
     "name": "stdout",
     "output_type": "stream",
     "text": [
      "                            OLS Regression Results                            \n",
      "==============================================================================\n",
      "Dep. Variable:                   w_hs   R-squared:                       0.837\n",
      "Model:                            OLS   Adj. R-squared:                  0.816\n",
      "Method:                 Least Squares   F-statistic:                     39.40\n",
      "Date:                Wed, 14 Aug 2024   Prob (F-statistic):           3.15e-09\n",
      "Time:                        16:43:36   Log-Likelihood:                -160.14\n",
      "No. Observations:                  27   AIC:                             328.3\n",
      "Df Residuals:                      23   BIC:                             333.5\n",
      "Df Model:                           3                                         \n",
      "Covariance Type:            nonrobust                                         \n",
      "==============================================================================\n",
      "                 coef    std err          t      P>|t|      [0.025      0.975]\n",
      "------------------------------------------------------------------------------\n",
      "const       -205.5706     55.457     -3.707      0.001    -320.293     -90.848\n",
      "g_hb           0.2789      0.071      3.905      0.001       0.131       0.427\n",
      "g_Thr          1.1828      0.289      4.096      0.000       0.585       1.780\n",
      "g_zf          12.8158      3.135      4.089      0.000       6.332      19.300\n",
      "==============================================================================\n",
      "Omnibus:                        3.548   Durbin-Watson:                   2.389\n",
      "Prob(Omnibus):                  0.170   Jarque-Bera (JB):                2.059\n",
      "Skew:                          -0.618   Prob(JB):                        0.357\n",
      "Kurtosis:                       3.549   Cond. No.                     1.49e+03\n",
      "==============================================================================\n",
      "\n",
      "Notes:\n",
      "[1] Standard Errors assume that the covariance matrix of the errors is correctly specified.\n",
      "[2] The condition number is large, 1.49e+03. This might indicate that there are\n",
      "strong multicollinearity or other numerical problems.\n",
      "                            OLS Regression Results                            \n",
      "==============================================================================\n",
      "Dep. Variable:                   w_zf   R-squared:                       0.808\n",
      "Model:                            OLS   Adj. R-squared:                  0.792\n",
      "Method:                 Least Squares   F-statistic:                     50.48\n",
      "Date:                Wed, 14 Aug 2024   Prob (F-statistic):           2.52e-09\n",
      "Time:                        16:43:36   Log-Likelihood:                -40.540\n",
      "No. Observations:                  27   AIC:                             87.08\n",
      "Df Residuals:                      24   BIC:                             90.97\n",
      "Df Model:                           2                                         \n",
      "Covariance Type:            nonrobust                                         \n",
      "==============================================================================\n",
      "                 coef    std err          t      P>|t|      [0.025      0.975]\n",
      "------------------------------------------------------------------------------\n",
      "const          2.5408      0.444      5.718      0.000       1.624       3.458\n",
      "g_pt           0.2874      0.056      5.118      0.000       0.172       0.403\n",
      "g_hs           0.0129      0.003      4.227      0.000       0.007       0.019\n",
      "==============================================================================\n",
      "Omnibus:                        4.236   Durbin-Watson:                   1.924\n",
      "Prob(Omnibus):                  0.120   Jarque-Bera (JB):                2.530\n",
      "Skew:                           0.634   Prob(JB):                        0.282\n",
      "Kurtosis:                       3.801   Cond. No.                         276.\n",
      "==============================================================================\n",
      "\n",
      "Notes:\n",
      "[1] Standard Errors assume that the covariance matrix of the errors is correctly specified.\n",
      "                            OLS Regression Results                            \n",
      "==============================================================================\n",
      "Dep. Variable:                   w_jz   R-squared:                       0.764\n",
      "Model:                            OLS   Adj. R-squared:                  0.744\n",
      "Method:                 Least Squares   F-statistic:                     38.76\n",
      "Date:                Wed, 14 Aug 2024   Prob (F-statistic):           3.05e-08\n",
      "Time:                        16:43:36   Log-Likelihood:                -47.860\n",
      "No. Observations:                  27   AIC:                             101.7\n",
      "Df Residuals:                      24   BIC:                             105.6\n",
      "Df Model:                           2                                         \n",
      "Covariance Type:            nonrobust                                         \n",
      "==============================================================================\n",
      "                 coef    std err          t      P>|t|      [0.025      0.975]\n",
      "------------------------------------------------------------------------------\n",
      "const          0.5258      0.583      0.902      0.376      -0.677       1.729\n",
      "g_pt           0.3795      0.074      5.153      0.000       0.228       0.532\n",
      "g_hs           0.0119      0.004      2.964      0.007       0.004       0.020\n",
      "==============================================================================\n",
      "Omnibus:                       12.264   Durbin-Watson:                   1.988\n",
      "Prob(Omnibus):                  0.002   Jarque-Bera (JB):               14.013\n",
      "Skew:                           1.028   Prob(JB):                     0.000906\n",
      "Kurtosis:                       5.869   Cond. No.                         276.\n",
      "==============================================================================\n",
      "\n",
      "Notes:\n",
      "[1] Standard Errors assume that the covariance matrix of the errors is correctly specified.\n",
      "                            OLS Regression Results                            \n",
      "==============================================================================\n",
      "Dep. Variable:                   w_dp   R-squared:                       0.727\n",
      "Model:                            OLS   Adj. R-squared:                  0.704\n",
      "Method:                 Least Squares   F-statistic:                     31.93\n",
      "Date:                Wed, 14 Aug 2024   Prob (F-statistic):           1.73e-07\n",
      "Time:                        16:43:36   Log-Likelihood:                 35.322\n",
      "No. Observations:                  27   AIC:                            -64.64\n",
      "Df Residuals:                      24   BIC:                            -60.76\n",
      "Df Model:                           2                                         \n",
      "Covariance Type:            nonrobust                                         \n",
      "==============================================================================\n",
      "                 coef    std err          t      P>|t|      [0.025      0.975]\n",
      "------------------------------------------------------------------------------\n",
      "const          0.0401      0.027      1.498      0.147      -0.015       0.095\n",
      "g_pt           0.0167      0.003      4.930      0.000       0.010       0.024\n",
      "g_hs           0.0004      0.000      2.390      0.025       6e-05       0.001\n",
      "==============================================================================\n",
      "Omnibus:                        0.696   Durbin-Watson:                   1.926\n",
      "Prob(Omnibus):                  0.706   Jarque-Bera (JB):                0.725\n",
      "Skew:                           0.329   Prob(JB):                        0.696\n",
      "Kurtosis:                       2.540   Cond. No.                         276.\n",
      "==============================================================================\n",
      "\n",
      "Notes:\n",
      "[1] Standard Errors assume that the covariance matrix of the errors is correctly specified.\n"
     ]
    }
   ],
   "source": [
    "for key in summeries.keys():\n",
    "    print(summeries[key])"
   ]
  },
  {
   "cell_type": "code",
   "execution_count": null,
   "metadata": {},
   "outputs": [],
   "source": []
  }
 ],
 "metadata": {
  "kernelspec": {
   "display_name": "pytorch",
   "language": "python",
   "name": "python3"
  },
  "language_info": {
   "codemirror_mode": {
    "name": "ipython",
    "version": 3
   },
   "file_extension": ".py",
   "mimetype": "text/x-python",
   "name": "python",
   "nbconvert_exporter": "python",
   "pygments_lexer": "ipython3",
   "version": "3.12.5"
  }
 },
 "nbformat": 4,
 "nbformat_minor": 2
}
